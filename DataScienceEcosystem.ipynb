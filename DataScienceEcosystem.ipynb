{
 "cells": [
  {
   "cell_type": "markdown",
   "id": "4ac51b0b-084c-41be-bcfc-5aaf66a625c9",
   "metadata": {},
   "source": [
    "# Data Science Tools and Ecosystem"
   ]
  },
  {
   "cell_type": "markdown",
   "id": "435971ee-ecd0-41af-904c-3bb576a1419a",
   "metadata": {},
   "source": [
    "\n",
    "In this notebook, Data Science Tools and Ecosystem are summarized.\n"
   ]
  },
  {
   "cell_type": "markdown",
   "id": "2c9aa085-de0b-4dba-8680-0c04afa968f4",
   "metadata": {},
   "source": [
    "\n",
    "Objectives:\n",
    "\n",
    "  * List popular languages used in Data Science\r",
    "  * List popular libraries for Data Science\n",
    "  * List popular open source tools used in data science\n",
    "  * Show examples of evaluating arithmetic expressions in Python\n"
   ]
  },
  {
   "cell_type": "markdown",
   "id": "84658bf4-1050-483a-9304-56f71954d96f",
   "metadata": {},
   "source": [
    "Some of the popular languages that Data Scientists use are:\n",
    "\n",
    "1. Python\n",
    "2. R\n",
    "3. Scala\n",
    "4. C++"
   ]
  },
  {
   "cell_type": "markdown",
   "id": "ed29c091-15c0-42f7-a447-1f4bc60ddff3",
   "metadata": {},
   "source": [
    "\n",
    "Some of the commonly used libraries used by Data Scientists include:\n",
    "\n",
    "1. pandas\n",
    "2. numpy\n",
    "3. matplotlib\n",
    "4. scikit-learn (sklearn)\n"
   ]
  },
  {
   "cell_type": "markdown",
   "id": "c720c7ed-780d-44f9-abd4-c9253378bc93",
   "metadata": {},
   "source": [
    "\n",
    "|*Data Science Tools*|\n",
    "|---|\r",
    "|Jupyter Lab Noteboks|\n",
    "|R Studio|\n",
    "|Google Colab|\n",
    "|Visual Studio Code|\n"
   ]
  },
  {
   "cell_type": "markdown",
   "id": "e1944994-4882-40cb-8ddb-dcbe0b4c8c81",
   "metadata": {},
   "source": [
    "\n",
    "### Below are a few examples of evaluating arithmetic expressions in Python\n"
   ]
  },
  {
   "cell_type": "code",
   "execution_count": 1,
   "id": "ae64f137-894b-4b49-ba16-31cbc5223e6f",
   "metadata": {},
   "outputs": [
    {
     "data": {
      "text/plain": [
       "17"
      ]
     },
     "execution_count": 1,
     "metadata": {},
     "output_type": "execute_result"
    }
   ],
   "source": [
    "# This a simple arithmetic expression to mutiply then add integers\n",
    "(3*4)+5"
   ]
  },
  {
   "cell_type": "code",
   "execution_count": 2,
   "id": "221e6582-9358-4ad1-b6b5-19e10b7011ce",
   "metadata": {},
   "outputs": [
    {
     "data": {
      "text/plain": [
       "3.3333333333333335"
      ]
     },
     "execution_count": 2,
     "metadata": {},
     "output_type": "execute_result"
    }
   ],
   "source": [
    "\n",
    "#  This will convert 200 minutes to hours by diving by 60\n",
    "200/60"
   ]
  },
  {
   "cell_type": "markdown",
   "id": "9d72c864-3eb2-4756-94ae-7efb132b8788",
   "metadata": {},
   "source": [
    "\n",
    "## Author\n",
    "Tom \"Gino\" Steele"
   ]
  },
  {
   "cell_type": "markdown",
   "id": "cf7ccd6d-9384-4d49-8d7b-f65594077730",
   "metadata": {},
   "source": []
  }
 ],
 "metadata": {
  "kernelspec": {
   "display_name": "Python 3 (ipykernel)",
   "language": "python",
   "name": "python3"
  },
  "language_info": {
   "codemirror_mode": {
    "name": "ipython",
    "version": 3
   },
   "file_extension": ".py",
   "mimetype": "text/x-python",
   "name": "python",
   "nbconvert_exporter": "python",
   "pygments_lexer": "ipython3",
   "version": "3.8.10"
  }
 },
 "nbformat": 4,
 "nbformat_minor": 5
}
